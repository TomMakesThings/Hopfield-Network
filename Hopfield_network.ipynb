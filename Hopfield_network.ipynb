{
 "cells": [
  {
   "cell_type": "markdown",
   "id": "6dbb806c",
   "metadata": {},
   "source": [
    "<img src=\"https://avatars.githubusercontent.com/u/61354833\" align=\"left\" width=\"70\" height=\"70\">\n",
    "\n",
    "Code by [TomMakesThings](https://github.com/TomMakesThings/Genome-Sequence-Analysis-HMM)"
   ]
  },
  {
   "cell_type": "markdown",
   "id": "1b077ac4",
   "metadata": {},
   "source": [
    "# **About**\n",
    "A Hopfield network is a type of neural network in which all nodes are full connected. In this notebook, the Hopfield net is evaluated for pattern recognition. See the corresponding <a href=\"https://github.com/TomMakesThings/Hopfield-Network\">GitHub repository here</a>."
   ]
  },
  {
   "cell_type": "markdown",
   "id": "18156745",
   "metadata": {},
   "source": [
    "# Imports"
   ]
  },
  {
   "cell_type": "code",
   "execution_count": 60,
   "id": "b5f631cf",
   "metadata": {},
   "outputs": [],
   "source": [
    "import numpy as np\n",
    "import random\n",
    "import math\n",
    "import statistics\n",
    "from matplotlib import pyplot as plt\n",
    "\n",
    "# Seed for reproducability\n",
    "random.seed(10)"
   ]
  },
  {
   "cell_type": "markdown",
   "id": "b5c2c702",
   "metadata": {},
   "source": [
    "# Pattern Creation\n",
    "The functions below are for creating and visualising the patterns for the network to learn:"
   ]
  },
  {
   "cell_type": "code",
   "execution_count": 1,
   "id": "d4a3d65e",
   "metadata": {},
   "outputs": [],
   "source": [
    "# Allows binary patterns to be visualised as a grid\n",
    "def plotPatterns(patterns, num_row, num_col, new_shape = None,\n",
    "                 subplot_titles = None, file = None):\n",
    "    \n",
    "    if (isinstance(new_shape, tuple)):\n",
    "        patterns = [patterns[i].reshape(new_shape) for i in range(len(patterns))]\n",
    "    \n",
    "    # Create empty subplots\n",
    "    fig, axes = plt.subplots(num_row, num_col, figsize = (1.5 * num_col, 2 * num_row))\n",
    "\n",
    "    for i in range(len(patterns)):\n",
    "        \n",
    "        if (num_row == 1):\n",
    "            if (num_col == 1):\n",
    "                ax = axes\n",
    "            else:\n",
    "                ax = axes[i]\n",
    "        else:\n",
    "            ax = axes[i // num_col, i % num_col]\n",
    "            \n",
    "        # Check if stored in a dictionary\n",
    "        if (isinstance(patterns, dict)):\n",
    "            # Get the identifier from the dictionary\n",
    "            key = list(patterns.keys())[i]\n",
    "            \n",
    "            # Plot the pattern\n",
    "            ax.imshow(patterns[key], cmap = 'gray')\n",
    "            ax.set_title(key)\n",
    "        # Assume in array\n",
    "        else:\n",
    "            ax.imshow(patterns[i], cmap = 'gray')\n",
    "            \n",
    "            if not isinstance(subplot_titles, type(None)):\n",
    "                ax.set_title(subplot_titles[i])\n",
    "\n",
    "    # Hide x and y axis labels\n",
    "    try:\n",
    "        for ax in axes.flatten():\n",
    "            ax.get_xaxis().set_visible(False)\n",
    "            ax.get_yaxis().set_visible(False)\n",
    "    except:\n",
    "        axes.get_xaxis().set_visible(False)\n",
    "        axes.get_yaxis().set_visible(False)\n",
    "        \n",
    "    if not isinstance(file, type(None)):\n",
    "        # Save the figure\n",
    "        plt.savefig(file, bbox_inches = 'tight')\n",
    "        \n",
    "    # Display the plot\n",
    "    plt.show()"
   ]
  },
  {
   "cell_type": "code",
   "execution_count": 98,
   "id": "305061f3",
   "metadata": {},
   "outputs": [],
   "source": [
    "# Convert from dictionary to form suitable for training Hopfield network\n",
    "def convertPatterns(patterns):\n",
    "    # Flattern matricies to 1D and convert to array\n",
    "    patterns = [np.array(patterns[i].flatten())[0] for i in patterns.keys()]\n",
    "    \n",
    "    for i in range(len(patterns)):\n",
    "        # Change 0s to -1s\n",
    "        patterns[i][patterns[i] == 0] = -1\n",
    "        \n",
    "    return(patterns)"
   ]
  },
  {
   "cell_type": "code",
   "execution_count": 99,
   "id": "1eafff2b",
   "metadata": {},
   "outputs": [],
   "source": [
    "# Adds random noise to a pattern\n",
    "def addNoise(patterns, noise_threshold = 1):\n",
    "    noisy_patterns = np.copy(patterns)\n",
    "\n",
    "    for i in range(len(noisy_patterns)):\n",
    "        # Generate random noise from a normal distribution\n",
    "        noise_locations = np.array([np.random.normal(0) > noise_threshold for j in range(len(noisy_patterns[0]))])\n",
    "\n",
    "        for k in range(len(noise_locations)):\n",
    "            # Check if to add noise\n",
    "            if noise_locations[k] == True:\n",
    "                # Add noise by flipping bits\n",
    "                noisy_patterns[i][k] = 1 if (noisy_patterns[0][k] == -1) else -1\n",
    "                \n",
    "    return(noisy_patterns)"
   ]
  },
  {
   "cell_type": "code",
   "execution_count": 100,
   "id": "7e2566df",
   "metadata": {},
   "outputs": [],
   "source": [
    "# Corrupts a pattern by keeping only the upper part\n",
    "def hiddenPatterns(patterns, pattern_shape = (5,4), remaining = [2,2]):\n",
    "    # Record each new pattern\n",
    "    hidden_patterns = []\n",
    "\n",
    "    for i in range(len(patterns)):\n",
    "        # Reshape as a matrix\n",
    "        pattern = np.reshape(patterns[i], pattern_shape)\n",
    "        # Get the part to keep\n",
    "        remaining_part = pattern[:remaining[0], :remaining[1]]\n",
    "        # Create a blank pattern and add the conserved part\n",
    "        hidden_pattern = np.ones_like(pattern)\n",
    "        hidden_pattern[:remaining[0], :remaining[1]] = remaining_part\n",
    "        # Reshape to 1D\n",
    "        hidden_pattern = hidden_pattern.flatten()\n",
    "        # Record the updated pattern\n",
    "        hidden_patterns.append(hidden_pattern)\n",
    "                \n",
    "    return(hidden_patterns)"
   ]
  },
  {
   "cell_type": "markdown",
   "id": "3bcb065a",
   "metadata": {},
   "source": [
    "## Letter Patterns\n",
    "The first training set consists of 4 × 5 binary patterns depicting the first eight letters of the alphabet.\n",
    "Each pattern is flattened to one dimension giving a pattern size of 20. For testing, two types of corrupt patterns were derived for each letter by:\n",
    "* Adding random noise\n",
    "* Masking the lower half of the pattern"
   ]
  },
  {
   "cell_type": "code",
   "execution_count": 101,
   "id": "e02943c7",
   "metadata": {},
   "outputs": [
    {
     "data": {
      "image/png": "[encoded data removed]",
      "text/plain": [
       "<Figure size 864x432 with 24 Axes>"
      ]
     },
     "metadata": {
      "needs_background": "light"
     },
     "output_type": "display_data"
    }
   ],
   "source": [
    "# Create letter patterns\n",
    "letter_matrices = {'A' : np.matrix([[0,1,1,0],[1,0,0,1],[1,1,1,1],[1,0,0,1],[1,0,0,1]]),\n",
    "                   'B' : np.matrix([[1,1,1,0],[1,0,0,1],[1,1,1,0],[1,0,0,1],[1,1,1,0]]),\n",
    "                   'C' : np.matrix([[1,1,1,0],[1,0,0,0],[1,0,0,0],[1,0,0,0],[1,1,1,0]]),\n",
    "                   'D' : np.matrix([[1,1,1,0],[1,0,0,1],[1,0,0,1],[1,0,0,1],[1,1,1,0]]),\n",
    "                   'E' : np.matrix([[1,1,1,0],[1,0,0,0],[1,1,1,0],[1,0,0,0],[1,1,1,0]]),\n",
    "                   'F' : np.matrix([[1,1,1,0],[1,0,0,0],[1,1,1,0],[1,0,0,0],[1,0,0,0]]),\n",
    "                   'G' : np.matrix([[1,1,1,0],[1,0,0,0],[1,0,1,1],[1,0,0,1],[1,1,1,1]]),\n",
    "                   'H' : np.matrix([[1,0,0,1],[1,0,0,1],[1,1,1,1],[1,0,0,1],[1,0,0,1]])}\n",
    "\n",
    "# Convert from dictionary of matrices to array suitable for Hopfield network training\n",
    "letter_patterns = convertPatterns(letter_matrices)\n",
    "# Distort letters by adding noise\n",
    "noisy_letter_patterns = addNoise(letter_patterns, noise_threshold = 1.1)\n",
    "# Hide part of the letters\n",
    "hidden_letter_patterns = hiddenPatterns(letter_patterns, remaining = [3,5])\n",
    "\n",
    "# Plot the corrupted patterns\n",
    "noisy_plot_data = dict(zip(letter_matrices.keys(),\n",
    "                           [noisy_letter_patterns[i].reshape(5,4) for i in range(len(noisy_letter_patterns))]))\n",
    "hidden_plot_data = dict(zip(letter_matrices.keys(),\n",
    "                            [hidden_letter_patterns[i].reshape(5,4)for i in range(len(hidden_letter_patterns))]))\n",
    "\n",
    "# View the letters\n",
    "plotPatterns(list(letter_matrices.values()) + list(noisy_plot_data.values()) + list(hidden_plot_data.values()),\n",
    "             num_row = 3, num_col = len(letter_matrices),\n",
    "             subplot_titles = list(letter_matrices.keys()) + [\"\" for i in range(len(letter_matrices) * 2)],\n",
    "             file = \"Hopfield/letters.pdf\")"
   ]
  },
  {
   "cell_type": "markdown",
   "id": "03ad6af8",
   "metadata": {},
   "source": [
    "## Shape Patterns\n",
    "The second training set consists of 10 larger 10 × 10 patterns."
   ]
  },
  {
   "cell_type": "code",
   "execution_count": 41,
   "id": "9481fd20",
   "metadata": {},
   "outputs": [
    {
     "data": {
      "image/png": "[encoded data removed]",
      "text/plain": [
       "<Figure size 1080x144 with 10 Axes>"
      ]
     },
     "metadata": {
      "needs_background": "light"
     },
     "output_type": "display_data"
    },
    {
     "data": {
      "image/png": "[encoded data removed]",
      "text/plain": [
       "<Figure size 1080x144 with 10 Axes>"
      ]
     },
     "metadata": {
      "needs_background": "light"
     },
     "output_type": "display_data"
    },
    {
     "data": {
      "image/png": "[encoded data removed]",
      "text/plain": [
       "<Figure size 1080x144 with 10 Axes>"
      ]
     },
     "metadata": {
      "needs_background": "light"
     },
     "output_type": "display_data"
    }
   ],
   "source": [
    "# Binary pattern dimensions\n",
    "pattern_size = (10, 10)\n",
    "\n",
    "# Calculate number of pixels based on pattern dimensions\n",
    "n_pixels = 1\n",
    "for i in pattern_size:\n",
    "    n_pixels *= i\n",
    "n_pixels\n",
    "\n",
    "# Create pattern of all -1\n",
    "binary_patterns = (np.ones(pattern_size) * -1).flatten()\n",
    "\n",
    "# Pattern of half 1, half -1\n",
    "half_pattern = np.ones(n_pixels).reshape(pattern_size)\n",
    "half_pattern[:pattern_size[0] // 2] = -1\n",
    "binary_patterns = np.vstack((binary_patterns, half_pattern.flatten()))\n",
    "\n",
    "# Pattern of three quarters 1s\n",
    "quarter_pattern = np.ones(n_pixels).reshape(pattern_size)\n",
    "quarter_pattern[:pattern_size[0] // 4] = -1\n",
    "binary_patterns = np.vstack((binary_patterns, quarter_pattern.flatten()))\n",
    "\n",
    "# Pattern of -1 and 1 every other pixel\n",
    "checkboard_pattern = np.indices(pattern_size).sum(axis = 0) % 2\n",
    "for i in range(len(checkboard_pattern)):\n",
    "    # Change 0s to -1s\n",
    "    checkboard_pattern[i][checkboard_pattern[i] == 0] = -1\n",
    "binary_patterns = np.vstack((binary_patterns, checkboard_pattern.flatten()))\n",
    "\n",
    "# Pattern of edge 1 and middle -1\n",
    "edge_ones = np.ones(pattern_size, dtype = int)\n",
    "edge_ones[1:-1,1:-1] = -1\n",
    "binary_patterns = np.vstack((binary_patterns, edge_ones.flatten()))\n",
    "\n",
    "# X shape of -1\n",
    "cross_pattern = np.ones(pattern_size)\n",
    "np.fill_diagonal(cross_pattern, val = -1)\n",
    "np.fill_diagonal(np.fliplr(cross_pattern), val = -1)\n",
    "binary_patterns = np.vstack((binary_patterns, cross_pattern.flatten()))\n",
    "\n",
    "# Create random patterns with different ratios of -1 and 1\n",
    "pattern_probabilities = [[0.1, 0.9],\n",
    "                         [0.3, 0.7],\n",
    "                         [0.5, 0.5],\n",
    "                         [0.7, 0.3]]\n",
    "\n",
    "random_patterns = np.array([])\n",
    "n_random = len(pattern_probabilities)\n",
    "\n",
    "while len(random_patterns) < n_random:\n",
    "    # Create a new randomly generated pattern\n",
    "    new_random = np.array([np.random.choice([-1, 1], p = pattern_probabilities[len(random_patterns)])\n",
    "                           for i in range(n_pixels)])\n",
    "    # Check the pattern hasn't been generated already\n",
    "    if not any([all(p == new_random) for p in random_patterns]):\n",
    "        # Check if this is the first random pattern\n",
    "        if len(random_patterns) == 0:\n",
    "            random_patterns = np.array([new_random])\n",
    "        else:\n",
    "            # Record it\n",
    "            random_patterns = np.vstack((random_patterns, new_random))\n",
    "            \n",
    "binary_patterns = np.vstack((binary_patterns, random_patterns))\n",
    "            \n",
    "# Visualise the randomly generated patterns\n",
    "plotPatterns(binary_patterns, new_shape = pattern_size,\n",
    "             num_row = 1, num_col = math.ceil(len(binary_patterns)/1),\n",
    "             subplot_titles = range(0, len(binary_patterns)),\n",
    "             file = \"Hopfield/binary_patterns.pdf\")\n",
    "\n",
    "noisy_binary_patterns = addNoise(binary_patterns, noise_threshold = 1.1)\n",
    "\n",
    "hidden_binary_patterns = hiddenPatterns(binary_patterns,\n",
    "                                        pattern_shape = pattern_size,\n",
    "                                        remaining = [pattern_size[0],\n",
    "                                                     pattern_size[0] // 2])\n",
    "\n",
    "plotPatterns(noisy_binary_patterns, new_shape = pattern_size,\n",
    "             num_row = 1, num_col = math.ceil(len(noisy_binary_patterns)/1),\n",
    "             subplot_titles = range(0, len(noisy_binary_patterns)),\n",
    "             file = \"Hopfield/noisy_binary_patterns.pdf\")\n",
    "\n",
    "plotPatterns(hidden_binary_patterns, new_shape = pattern_size,\n",
    "             num_row = 1, num_col = math.ceil(len(hidden_binary_patterns)/1),\n",
    "             subplot_titles = range(0, len(hidden_binary_patterns)),\n",
    "             file = \"Hopfield/hidden_binary_patterns.pdf\")"
   ]
  },
  {
   "cell_type": "markdown",
   "id": "92f8cb4f",
   "metadata": {},
   "source": [
    "# Hopfield Network"
   ]
  },
  {
   "cell_type": "code",
   "execution_count": 102,
   "id": "54aa11c4",
   "metadata": {},
   "outputs": [],
   "source": [
    "class Hopfield:\n",
    "    \"\"\"\n",
    "    Create a trainable Hopfield network\n",
    "    \n",
    "    inputs:\n",
    "        patterns: array of binary patterns for the network to learn\n",
    "        learning_rule: set weights using either \"hebbian\" or \"storkey\" learning\n",
    "        unit_thresholds: decision thresholds for the state of the neurons\n",
    "        dropout_rate: percentage of weight dropout\n",
    "    \"\"\"\n",
    "    \n",
    "    def __init__(self, patterns, learning_rule = \"hebbian\", unit_thresholds = None, dropout_rate = 0):\n",
    "        self.patterns = patterns\n",
    "        self.learning_rule = learning_rule\n",
    "        # Determine number of neurons\n",
    "        self.N = len(self.patterns[0])\n",
    "        \n",
    "        # Set threshold theta\n",
    "        if isinstance(unit_thresholds, type(None)):\n",
    "            # Set as zero if none provided\n",
    "            self.unit_thresholds = np.zeros(self.N)\n",
    "        else:\n",
    "            self.unit_thresholds = unit_thresholds\n",
    "        \n",
    "        # Set percentage of weight dropout\n",
    "        self.dropout_rate = dropout_rate\n",
    "        # Set the network weights\n",
    "        self.weight_matrix = self.setWeights()\n",
    "        \n",
    "    def setWeights(self):\n",
    "        # Create empty weight matrix\n",
    "        weight_matrix = np.zeros((self.N, self.N))\n",
    "        # Set upper-triangle as nan as weigths are symmetric\n",
    "        weight_matrix[np.triu_indices(self.N)] = None\n",
    "        # Set diagonal weights to zero\n",
    "        np.fill_diagonal(weight_matrix, 0)\n",
    "        \n",
    "        # Set weights with Hebbian learning rule\n",
    "        if self.learning_rule.lower()[0] == \"h\":\n",
    "            for i in range(self.N):\n",
    "                # Set only lower half of matrix to prevent redundancy\n",
    "                for j in range((i - self.N) % self.N):\n",
    "                    # Prevent recurrent connection back to same neuron\n",
    "                    if i != j:\n",
    "                        # Add the product between components i and j in each pattern\n",
    "                        pattern_sum = 0\n",
    "                        # Iterate through each pattern mu\n",
    "                        for mu in range(len(self.patterns)):\n",
    "                            pattern_sum += self.patterns[mu][i] * self.patterns[mu][j]\n",
    "                        # Set weight i to j in matrix\n",
    "                        weight_matrix[i][j] = (1/self.N) * pattern_sum\n",
    "                        \n",
    "        # Set weights via Storkey learning rule\n",
    "        else:\n",
    "            # Iterate through each pattern mu\n",
    "            for mu in range(len(self.patterns)):\n",
    "                # Set each weight between neuron i and j\n",
    "                for i in range(self.N):\n",
    "                    for j in range((i - self.N) % self.N):\n",
    "                        # Calculate local field\n",
    "                        local_field = 0\n",
    "                        for k in range(self.N):\n",
    "                            if (k != i & k != j):\n",
    "                                if not np.isnan(weight_matrix[i][k]):\n",
    "                                    local_field += weight_matrix[i][k] * self.patterns[mu][k]\n",
    "                        # Increment weight for the pattern\n",
    "                        weight_matrix[i][j] += (1/self.N) * ((self.patterns[mu][i] * self.patterns[mu][j]) -\n",
    "                                                             ((1/self.N) * self.patterns[mu][i] * local_field) -\n",
    "                                                             ((1/self.N) * local_field * self.patterns[mu][j]))\n",
    "        \n",
    "        if (self.dropout_rate > 0):\n",
    "            # Count the total number of weights\n",
    "            n_weights = np.count_nonzero(~np.isnan(weight_matrix))\n",
    "            # Calculate how many to set as nan\n",
    "            n_to_remove = math.ceil(n_weights * self.dropout_rate)\n",
    "            # Count how many have been removed so far\n",
    "            counter = 0\n",
    "            \n",
    "            while counter < n_to_remove:\n",
    "                # Randomly select a weight\n",
    "                x = random.randint(0, len(weight_matrix) - 1)\n",
    "                y = random.randint(0, len(weight_matrix[x]) - 1)\n",
    "                \n",
    "                if not np.isnan(weight_matrix[x][y]):\n",
    "                    # Set it as nan if not already\n",
    "                    weight_matrix[x][y] = None\n",
    "                    counter += 1\n",
    "                    \n",
    "        return(weight_matrix)\n",
    "    \n",
    "    def calculateEnergy(self, network_state):\n",
    "        # Add energy between each connected neuron\n",
    "        sum_energy = 0\n",
    "        \n",
    "        for i in range(self.N):\n",
    "            for j in range((i - self.N) % self.N):\n",
    "                if not np.isnan(self.weight_matrix[i][j]):\n",
    "                    sum_energy += self.weight_matrix[i][j] * network_state[i] * network_state[j]\n",
    "\n",
    "        energy = -0.5 * sum_energy\n",
    "        \n",
    "        return(energy)\n",
    "    \n",
    "    def neuronInput(self, unit, network_state):\n",
    "        # Get the weights of neurons connected to unit i\n",
    "        connection_weights = [self.weight_matrix[unit][j] for j in range(unit)]\n",
    "        connection_weights = connection_weights + [self.weight_matrix[j][unit]\n",
    "                                                   for j in range(unit + 1, self.N)]\n",
    "\n",
    "        # Get the indexes of the removed weights\n",
    "        dropped_weights = [i for i in range(len(connection_weights))\n",
    "                           if np.isnan(connection_weights[i])]\n",
    "        connection_weights = np.delete(connection_weights, dropped_weights)\n",
    "        \n",
    "        # Get the states of connected neurons\n",
    "        connection_states = np.copy(network_state)\n",
    "        connection_states = np.delete(connection_states, unit)\n",
    "        connection_states = np.delete(connection_states, dropped_weights)\n",
    "        # Get the thresholds\n",
    "        connection_thresholds = np.copy(self.unit_thresholds)\n",
    "        connection_thresholds = np.delete(connection_thresholds, unit)\n",
    "        connection_thresholds = np.delete(connection_thresholds, dropped_weights)\n",
    "\n",
    "        # Calculate the neuron's total input\n",
    "        unit_input = sum((connection_weights * connection_states) - connection_thresholds)\n",
    "        \n",
    "        return(unit_input)\n",
    "    \n",
    "    def runNetwork(self, pattern, update_type = \"asynchronous\", random_update = True, \n",
    "                   stable_iterations = 500):\n",
    "        # Set the initial state as the values of the input pattern\n",
    "        network_state = np.copy(pattern)\n",
    "        # Calculate initial energy of the whole network\n",
    "        energy = self.calculateEnergy(network_state)\n",
    "        \n",
    "        # Count how many times energy has remained the same\n",
    "        same_energy_count = 0\n",
    "        # Whether the network state is stable\n",
    "        stable = False\n",
    "        unit_counter = 0\n",
    "        \n",
    "        # Run until network converges and pattern remains stable\n",
    "        while not stable:\n",
    "            # Asynchronous state update\n",
    "            if update_type[0].lower() != \"s\":\n",
    "                if (random_update):\n",
    "                    # Randomly select neuron i to update\n",
    "                    unit = random.randint(0, self.N - 1)\n",
    "                else:\n",
    "                    # Incrementally select each neuron\n",
    "                    unit = unit_counter\n",
    "                    unit_counter = (unit_counter + 1) % self.N\n",
    "\n",
    "                # Determine its output state\n",
    "                unit_input = self.neuronInput(unit, network_state)\n",
    "                network_state[unit] = 1 if unit_input >= 0 else -1\n",
    "            \n",
    "            # Synchronous state update\n",
    "            else:\n",
    "                # Copy the network state\n",
    "                updated_network_state = np.copy(network_state)\n",
    "                \n",
    "                # Update every unit i\n",
    "                for unit in range(self.N):\n",
    "                    unit_input = self.neuronInput(unit, network_state)\n",
    "                    updated_network_state[unit] = 1 if unit_input >= 0 else -1\n",
    "                    \n",
    "                network_state = updated_network_state\n",
    "\n",
    "            # Calculate the updated energy after changing the neurons state\n",
    "            new_energy = self.calculateEnergy(network_state)\n",
    "\n",
    "            # If energy hasn't changed, add to the counter\n",
    "            if (new_energy == energy):\n",
    "                same_energy_count += 1\n",
    "            else:\n",
    "                same_energy_count = 0\n",
    "\n",
    "            energy = new_energy\n",
    "\n",
    "            # Network is stable if energy hasn't improved after n iterations\n",
    "            if (same_energy_count == stable_iterations):\n",
    "                stable = True\n",
    "                \n",
    "        return(network_state)"
   ]
  },
  {
   "cell_type": "markdown",
   "id": "a4ea626b",
   "metadata": {},
   "source": [
    "# Network Capacity\n",
    "The capacity of a Hopfield net is the number of memories it is able to store. A network trained with the Hebbian learning rule has an absolute capacity $C_{H}$, while a network trained with the Storkey learning rule theoretically has a higher capacity $C_{S}$. In these equations, n is the number of neurons which is equivalent to the length of the patterns the network is trained on.\n",
    "\n",
    "\\begin{equation}\n",
    "C_{H} \\cong \\frac{n}{2 log_{2}n}\n",
    "\\end{equation}\n",
    "\n",
    "\\begin{equation}\n",
    "C_{S} \\cong \\frac{n}{2 \\sqrt{log_{2}n}}\n",
    "\\end{equation}"
   ]
  },
  {
   "cell_type": "code",
   "execution_count": 103,
   "id": "53c6a720",
   "metadata": {},
   "outputs": [
    {
     "name": "stdout",
     "output_type": "stream",
     "text": [
      "Hebbian absolute capacity:  2.3137821315975917\n",
      "Storkey absolute capacity:  4.810178927646653\n"
     ]
    }
   ],
   "source": [
    "# Calculate network capacity for letter patterns\n",
    "n = len(letter_patterns[0])\n",
    "\n",
    "print(\"Hebbian absolute capacity: \", str(n / (2 * math.log2(n))))\n",
    "print(\"Storkey absolute capacity: \", str(n / (2 * math.sqrt(math.log2(n)))))"
   ]
  },
  {
   "cell_type": "code",
   "execution_count": 8,
   "id": "85e77807",
   "metadata": {},
   "outputs": [
    {
     "name": "stdout",
     "output_type": "stream",
     "text": [
      "Hebbian absolute capacity:  7.5257498915995305\n",
      "Storkey absolute capacity:  19.398131213598298\n"
     ]
    }
   ],
   "source": [
    "# Calculate network capacity for binary patterns\n",
    "n = len(binary_patterns[0])\n",
    "\n",
    "print(\"Hebbian absolute capacity: \", str(n / (2 * math.log2(n))))\n",
    "print(\"Storkey absolute capacity: \", str(n / (2 * math.sqrt(math.log2(n)))))"
   ]
  },
  {
   "cell_type": "markdown",
   "id": "15f19571",
   "metadata": {},
   "source": [
    "# Training and Testing"
   ]
  },
  {
   "cell_type": "markdown",
   "id": "2ed18863",
   "metadata": {},
   "source": [
    "## Letter Patterns\n",
    "### Network Initialisation\n",
    "\n",
    "To create the network, an array of p same size patterns is given and the number of neurons N is set as the pattern size. The network weights are initialised as a lower triangle matrix of zeros as Hopfield net weights between all neurons are symmetric. Weights are then calculated depending on the learning rule. If the Hebbian learning rule was specified, weights are set by the equation below, where $x_{i}^{\\mu}$ denotes the $i^{th}$ component of pattern $\\mu$.\n",
    "\n",
    "\\begin{equation}\n",
    "\\label{eqn:hopfield_weight_hebbian}\n",
    "w_{ij} = \\frac{1}{N} \\sum_{\\mu = 1}^{p} x_{i}^{\\mu}x_{j}^{\\mu}\n",
    "\\end{equation}\n",
    "\n",
    "If the learning rule is set as the Storkey learning rule, weights are determined through the equations below, where $h_{ij}$ is a form of local field.\n",
    "\n",
    "\\begin{equation}\n",
    "\\label{eqn:hopfield_weight_storkey_1}\n",
    "w_{ij}^{0} = 0,  \\mbox{for all i,j}\n",
    "\\end{equation}\n",
    "\n",
    "\\begin{equation}\n",
    "\\label{eqn:hopfield_weight_storkey_2}\n",
    "w_{ij}^{\\mu} = w_{ij}^{\\mu - 1} + \\frac{1}{N} (x_{i}^{\\mu} x_{j}^{\\mu} - \\frac{1}{N} x_{i}^{\\mu} h_{ij} - \\frac{1}{N} h_{ij} x_{j}^{\\mu})\n",
    "\\end{equation}\n",
    "\n",
    "\\begin{equation}\n",
    "\\label{eqn:hopfield_weight_storkey_3}\n",
    "h_{ij}^{\\mu} = \\sum_{k = 1 \\mbox{ } k \\neq i,j}^{N} w_{ik}^{\\mu - 1} x_{k}^{\\mu}\n",
    "\\end{equation}\n",
    "\n",
    "When the network is run, its initial state is set as the input pattern and the energy of the whole network calculated, where $v_{i}$ is the state of unit $i$ and $v_{i} \\in \\{-1, 1\\}$.\n",
    "\n",
    "\\begin{equation}\n",
    "\\label{eqn:hopfield_energy}\n",
    "E = -\\frac{1}{2} \\sum_{ij} w_{ij}v_{i}v_{j}\n",
    "\\end{equation}\n",
    "\n",
    "The state $s$ of all neurons are then repeatedly updated until the network converges to a stable state. This is determined by the network's energy not changing for n iterations, where in this case n was set as 500. By default, neuron state updates are set to be asynchronous, in which neurons are randomly selected to be updated one at a time.\n",
    "\n",
    "$\\text{if } \\sum_{j = 1}^{N} w_{ij}v_{j} - \\theta_{i} \\geq 0 $, $ s_{i} = 1$\n",
    "\n",
    "$\\text{else } s_{i} = -1$"
   ]
  },
  {
   "cell_type": "code",
   "execution_count": null,
   "id": "3f52fbbc",
   "metadata": {},
   "outputs": [],
   "source": [
    "# Train the network on the letter patterns\n",
    "n_train_patterns = 3\n",
    "\n",
    "letter_hopfield = Hopfield(letter_patterns[:n_train_patterns], learning_rule = \"h\", dropout_rate = 0.4)"
   ]
  },
  {
   "cell_type": "markdown",
   "id": "6a6c860b",
   "metadata": {},
   "source": [
    "### Testing Performance\n",
    "After training the network, it can be tested to see how well it recalls a given pattern. In this case to evaluate performance, the percentage of pixels correctly recalled is calculated."
   ]
  },
  {
   "cell_type": "code",
   "execution_count": 111,
   "id": "629f4727",
   "metadata": {},
   "outputs": [],
   "source": [
    "def calculateSimilarity(predictions, expected):\n",
    "    # Calculate how similar each prediction is to the expected pattern\n",
    "    pixel_similarity = []\n",
    "\n",
    "    # Iterate through predictions\n",
    "    for out, ref in zip(predictions, expected):\n",
    "        count = 0\n",
    "        for i in range(len(out)):\n",
    "            # Check if pixels are the same\n",
    "            if out[i] == ref[i]:\n",
    "                count += 1\n",
    "        pixel_similarity.append(count / len(out))\n",
    "        \n",
    "    return(pixel_similarity)"
   ]
  },
  {
   "cell_type": "code",
   "execution_count": 140,
   "id": "b16843e5",
   "metadata": {},
   "outputs": [
    {
     "name": "stdout",
     "output_type": "stream",
     "text": [
      "[1.0, 1.0, 0.8]\n",
      "Average percent identical: 93.33333333333333%\n"
     ]
    },
    {
     "data": {
      "image/png": "[encoded data removed]",
      "text/plain": [
       "<Figure size 324x144 with 3 Axes>"
      ]
     },
     "metadata": {
      "needs_background": "light"
     },
     "output_type": "display_data"
    }
   ],
   "source": [
    "kwargs = {\"update_type\" : \"asynchronous\"}\n",
    "getLetterOutput = lambda pattern_idx, args : letter_hopfield.runNetwork(noisy_letter_patterns[pattern_idx],\n",
    "                                                                        **args).reshape((5,4))\n",
    "\n",
    "letter_outputs = {'A': getLetterOutput(0, kwargs),\n",
    "                  'B': getLetterOutput(1, kwargs),\n",
    "                  'C': getLetterOutput(2, kwargs),\n",
    "                  'D': getLetterOutput(3, kwargs),\n",
    "                  'E': getLetterOutput(4, kwargs),\n",
    "                  'F': getLetterOutput(5, kwargs),\n",
    "                  'G': getLetterOutput(6, kwargs),\n",
    "                  'H': getLetterOutput(7, kwargs)}\n",
    "\n",
    "# Check similarity between predictions and expected patterns\n",
    "percentage_same = calculateSimilarity([pred.flatten() for pred in np.array(list(letter_outputs.values())[:n_train_patterns])],\n",
    "                                      letter_patterns[:n_train_patterns])\n",
    "print(percentage_same)\n",
    "print(\"Average percent identical: \" + str(statistics.mean(percentage_same) * 100) + \"%\")\n",
    "\n",
    "plotPatterns({k: letter_outputs[k] for k in list(letter_outputs)[:n_train_patterns]},\n",
    "             1, n_train_patterns, file = \"Hopfield/noisy_letters_3.pdf\")"
   ]
  },
  {
   "cell_type": "markdown",
   "id": "972b9327",
   "metadata": {},
   "source": [
    "## Shape Patterns"
   ]
  },
  {
   "cell_type": "code",
   "execution_count": 113,
   "id": "12240b59",
   "metadata": {},
   "outputs": [
    {
     "name": "stdout",
     "output_type": "stream",
     "text": [
      "[1.0, 1.0]\n",
      "Average percent identical: 100.0%\n"
     ]
    },
    {
     "data": {
      "image/png": "[encoded data removed]",
      "text/plain": [
       "<Figure size 216x288 with 4 Axes>"
      ]
     },
     "metadata": {
      "needs_background": "light"
     },
     "output_type": "display_data"
    }
   ],
   "source": [
    "# Train network on binary patterns\n",
    "first_train_pattern = 0\n",
    "last_train_pattern = 2\n",
    "n_train_patterns = last_train_pattern - first_train_pattern\n",
    "\n",
    "binary_hopfield = Hopfield(binary_patterns[first_train_pattern:last_train_pattern], learning_rule = \"s\", dropout_rate = 0.4)\n",
    "\n",
    "kwargs = {\"update_type\" : \"asynchronous\"}\n",
    "getRandomOutput = lambda pattern_idx, args : binary_hopfield.runNetwork(noisy_binary_patterns[pattern_idx],\n",
    "                                                                        **args)\n",
    "# Get predictions\n",
    "output_patterns = [getRandomOutput(0, kwargs)]\n",
    "\n",
    "for i in range(1, n_train_patterns):\n",
    "    output_patterns = np.vstack((output_patterns, getRandomOutput(i, kwargs)))\n",
    "    \n",
    "# Check similarity between predictions and expected patterns\n",
    "percentage_same = calculateSimilarity(output_patterns, binary_patterns[first_train_pattern:last_train_pattern])\n",
    "print(percentage_same)\n",
    "print(\"Average percent identical: \" + str(statistics.mean(percentage_same) * 100) + \"%\")\n",
    "    \n",
    "plotPatterns(np.vstack((output_patterns, binary_patterns[first_train_pattern:last_train_pattern])),\n",
    "             num_row = 2, num_col = n_train_patterns,\n",
    "             new_shape = pattern_size,\n",
    "             subplot_titles = [\"Prediction \\n\" + str(percentage_same[i] * 100) + \"%\" for i in range(n_train_patterns)] + [\"Expected\" for j in range(n_train_patterns)],\n",
    "             file = \"Hopfield/binary_patterns_dropout_20.pdf\")"
   ]
  },
  {
   "cell_type": "code",
   "execution_count": 86,
   "id": "087a0dae",
   "metadata": {},
   "outputs": [
    {
     "data": {
      "image/png": "[encoded data removed]",
      "text/plain": [
       "<Figure size 432x144 with 4 Axes>"
      ]
     },
     "metadata": {
      "needs_background": "light"
     },
     "output_type": "display_data"
    }
   ],
   "source": [
    "plotPatterns(output_patterns,\n",
    "             num_row = 1, num_col = n_train_patterns,\n",
    "             new_shape = pattern_size,\n",
    "             subplot_titles = [\"Prediction \\n\" + str(percentage_same[i] * 100) + \"%\" for i in range(n_train_patterns)],\n",
    "             file = \"Hopfield/binary_patterns_last_hebbian.pdf\")"
   ]
  }
 ],
 "metadata": {
  "kernelspec": {
   "display_name": "Python 3 (ipykernel)",
   "language": "python",
   "name": "python3"
  },
  "language_info": {
   "codemirror_mode": {
    "name": "ipython",
    "version": 3
   },
   "file_extension": ".py",
   "mimetype": "text/x-python",
   "name": "python",
   "nbconvert_exporter": "python",
   "pygments_lexer": "ipython3",
   "version": "3.9.7"
  }
 },
 "nbformat": 4,
 "nbformat_minor": 5
}
